{
 "cells": [
  {
   "cell_type": "markdown",
   "metadata": {},
   "source": [
    "#### Imports"
   ]
  },
  {
   "cell_type": "code",
   "execution_count": null,
   "metadata": {},
   "outputs": [],
   "source": [
    "from fastapi import FastAPI, HTTPException\n",
    "from typing import List, Dict\n",
    "import requests\n",
    "import uvicorn\n",
    "\n",
    "\n",
    "# Load environment variables from .env file\n",
    "load_dotenv()\n",
    "\n",
    "# Create the FastAPI app\n",
    "app = FastAPI()"
   ]
  },
  {
   "cell_type": "markdown",
   "metadata": {},
   "source": [
    "#### API KEYS"
   ]
  },
  {
   "cell_type": "code",
   "execution_count": 2,
   "metadata": {},
   "outputs": [],
   "source": [
    "# List of API keys (loaded from environment variables)\n",
    "API_KEYS = [\n",
    "    os.getenv(\"API_KEY_1\"),\n",
    "    os.getenv(\"API_KEY_2\"),\n",
    "    os.getenv(\"API_KEY_3\"),\n",
    "    os.getenv(\"API_KEY_4\"),\n",
    "    os.getenv(\"API_KEY_5\"),\n",
    "    os.getenv(\"API_KEY_6\"),\n",
    "    os.getenv(\"API_KEY_7\"),\n",
    "    os.getenv(\"API_KEY_8\"),\n",
    "    os.getenv(\"API_KEY_9\"),\n",
    "    os.getenv(\"API_KEY_10\"),\n",
    "    os.getenv(\"API_KEY_11\"),\n",
    "    os.getenv(\"API_KEY_12\"),\n",
    "]"
   ]
  },
  {
   "cell_type": "markdown",
   "metadata": {},
   "source": [
    "#### Quota Limit"
   ]
  },
  {
   "cell_type": "code",
   "execution_count": 3,
   "metadata": {},
   "outputs": [],
   "source": [
    "# Quota limit per API key\n",
    "QUOTA_LIMIT = 10000"
   ]
  },
  {
   "cell_type": "code",
   "execution_count": null,
   "metadata": {},
   "outputs": [
    {
     "name": "stdout",
     "output_type": "stream",
     "text": [
      "FastAPI server is running on http://127.0.0.1:8000\n"
     ]
    },
    {
     "name": "stderr",
     "output_type": "stream",
     "text": [
      "INFO:     Started server process [31051]\n",
      "INFO:     Waiting for application startup.\n",
      "INFO:     Application startup complete.\n",
      "INFO:     Uvicorn running on http://0.0.0.0:8000 (Press CTRL+C to quit)\n"
     ]
    },
    {
     "name": "stdout",
     "output_type": "stream",
     "text": [
      "INFO:     127.0.0.1:45158 - \"GET /youtube/search?q=python&max_results=2 HTTP/1.1\" 200 OK\n"
     ]
    }
   ],
   "source": [
    "# Dictionary to track quota usage\n",
    "quota_usage = {key: 0 for key in API_KEYS}\n",
    "\n",
    "# Index to keep track of the current API key\n",
    "current_key_index = 0\n",
    "\n",
    "def get_next_api_key():\n",
    "    global current_key_index\n",
    "    current_key_index = (current_key_index + 1) % len(API_KEYS)\n",
    "    return API_KEYS[current_key_index]\n",
    "\n",
    "def make_youtube_api_request(url: str, params: Dict):\n",
    "    global quota_usage\n",
    "\n",
    "    while True:\n",
    "        current_key = API_KEYS[current_key_index]\n",
    "        if quota_usage[current_key] >= QUOTA_LIMIT:\n",
    "            get_next_api_key()\n",
    "            continue\n",
    "\n",
    "        params['key'] = current_key\n",
    "        response = requests.get(url, params=params)\n",
    "\n",
    "        if response.status_code == 403 and 'quotaExceeded' in response.text:\n",
    "            quota_usage[current_key] = QUOTA_LIMIT\n",
    "            get_next_api_key()\n",
    "        else:\n",
    "            quota_usage[current_key] += 1  # Increment quota usage\n",
    "            return response.json()\n",
    "\n",
    "@app.get(\"/youtube/search\")\n",
    "def search_youtube(q: str, max_results: int = 5):\n",
    "    url = \"https://www.googleapis.com/youtube/v3/search\"\n",
    "    params = {\n",
    "        \"q\": q,\n",
    "        \"part\": \"snippet\",\n",
    "        \"maxResults\": max_results,\n",
    "        \"type\": \"video\"\n",
    "    }\n",
    "\n",
    "    try:\n",
    "        data = make_youtube_api_request(url, params)\n",
    "        return data\n",
    "    except Exception as e:\n",
    "        raise HTTPException(status_code=500, detail=str(e))\n",
    "\n",
    "# Function to run the FastAPI server\n",
    "def run_fastapi():\n",
    "    uvicorn.run(app, host=\"0.0.0.0\", port=8000)\n",
    "\n",
    "# Run the FastAPI server in a separate thread\n",
    "import threading\n",
    "thread = threading.Thread(target=run_fastapi)\n",
    "thread.start()\n",
    "\n",
    "print(\"FastAPI server is running on http://127.0.0.1:8000\")"
   ]
  }
 ],
 "metadata": {
  "kernelspec": {
   "display_name": "ytenv",
   "language": "python",
   "name": "python3"
  },
  "language_info": {
   "codemirror_mode": {
    "name": "ipython",
    "version": 3
   },
   "file_extension": ".py",
   "mimetype": "text/x-python",
   "name": "python",
   "nbconvert_exporter": "python",
   "pygments_lexer": "ipython3",
   "version": "3.12.3"
  }
 },
 "nbformat": 4,
 "nbformat_minor": 2
}
